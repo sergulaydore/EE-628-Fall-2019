{
 "cells": [
  {
   "cell_type": "markdown",
   "metadata": {},
   "source": [
    "# Linear Regression Implementation from Scratch"
   ]
  },
  {
   "cell_type": "markdown",
   "metadata": {},
   "source": [
    "We are going to implement all parts of linear regression: the data pipeline, the model, the loss function, and the gradient descent optimizer, from scratch. We will only rely on Pytorch's ``tensor`` and ``autograd`` packages."
   ]
  },
  {
   "cell_type": "code",
   "execution_count": 1,
   "metadata": {},
   "outputs": [],
   "source": [
    "# import packages\n",
    "import torch\n",
    "import random\n",
    "import matplotlib.pyplot as plt"
   ]
  },
  {
   "cell_type": "markdown",
   "metadata": {},
   "source": [
    "## Getting Data Sets"
   ]
  },
  {
   "cell_type": "markdown",
   "metadata": {},
   "source": [
    "We will construct a simple artificial data set where the number of features are set to be 2 and the number of examples to 1000. $X \\in \\mathbb{R}^{1000 \\times 2}$. We will synthesize our data by sampling each point $\\mathbf{x}_i$ from a Gaussian distribution. Moreover, we will assume that the linearity assumption holds with true underlying parameters $\\mathbf{w} = [2, 3.4]^{\\top}$ and $b = 4.2$. Thus our synthetic labels will be given according to the following linear model which includes a noise term $\\epsilon$ to account for measurement errors on the features and labels: $$\\mathbf{y} = \\mathbf{X} \\mathbf{w} + b + \\epsilon$$."
   ]
  },
  {
   "cell_type": "code",
   "execution_count": 2,
   "metadata": {},
   "outputs": [],
   "source": [
    "# code that generates our synthetic data set\n",
    "def synthetic_data(w, b, num_examples):\n",
    "    X = torch.randn(size=(num_examples, len(w)))\n",
    "    y = (torch.matmul(X, w) + b + \n",
    "         0.01**0.5*torch.randn(size=(num_examples, )))\n",
    "    return X, y\n",
    "\n",
    "true_w = torch.tensor([2, 3.4])\n",
    "true_b = 4.2\n",
    "num_examples = 1000\n",
    "\n",
    "features, labels = synthetic_data(true_w, true_b, num_examples)"
   ]
  },
  {
   "cell_type": "markdown",
   "metadata": {},
   "source": [
    "By generating a scatter plot using one of the features and labels, we can clearly observe the linear relationship between the two."
   ]
  },
  {
   "cell_type": "code",
   "execution_count": 3,
   "metadata": {},
   "outputs": [
    {
     "data": {
      "text/plain": [
       "<matplotlib.collections.PathCollection at 0x11ec94f60>"
      ]
     },
     "execution_count": 3,
     "metadata": {},
     "output_type": "execute_result"
    },
    {
     "data": {
      "image/png": "[encoded data removed]",
      "text/plain": [
       "<Figure size 432x288 with 1 Axes>"
      ]
     },
     "metadata": {
      "needs_background": "light"
     },
     "output_type": "display_data"
    }
   ],
   "source": [
    "plt.scatter(features[:, 1].numpy(), labels.numpy())"
   ]
  },
  {
   "cell_type": "markdown",
   "metadata": {},
   "source": [
    "Recall that training models, consists of making multiple passes over the dataset, grabbing one mini-batch of examples at a time and using them to update our model. Since this process is so fundamental to training machine learning algorithms, we need a utility for shuffling the data and accessing in mini-batches."
   ]
  },
  {
   "cell_type": "code",
   "execution_count": 4,
   "metadata": {},
   "outputs": [],
   "source": [
    "def data_iter(batch_size, features, labels):\n",
    "    num_examples = len(features)\n",
    "    indices = list(range(num_examples))\n",
    "    random.shuffle(indices)\n",
    "    for i in range(0, num_examples, batch_size):\n",
    "        batch_indices = torch.tensor(indices[i: min(i+batch_size, num_examples)])\n",
    "        minibatch_features = features.index_select(0, batch_indices)\n",
    "        minibatch_labels = labels.index_select(0, batch_indices)\n",
    "        yield minibatch_features, minibatch_labels"
   ]
  },
  {
   "cell_type": "code",
   "execution_count": 5,
   "metadata": {},
   "outputs": [
    {
     "name": "stdout",
     "output_type": "stream",
     "text": [
      "tensor([[ 1.4375, -1.9759],\n",
      "        [-0.3158, -0.3536],\n",
      "        [-0.6184,  0.2189],\n",
      "        [ 0.1364,  1.3712],\n",
      "        [ 0.2697, -0.1193],\n",
      "        [ 0.8803, -0.0262],\n",
      "        [-1.2397, -0.0663],\n",
      "        [-0.2799, -0.2501],\n",
      "        [ 0.4308,  0.7066],\n",
      "        [-0.2466,  0.0994]]) tensor([0.2982, 2.2364, 3.7592, 9.1221, 4.2101, 5.9286, 1.5754, 2.8710, 7.4275,\n",
      "        4.1458])\n"
     ]
    }
   ],
   "source": [
    "# test your iterator\n",
    "batch_size = 10\n",
    "for X, y in data_iter(batch_size, features, labels):\n",
    "    print(X, y)\n",
    "    break"
   ]
  },
  {
   "cell_type": "markdown",
   "metadata": {},
   "source": [
    "## Initialize Model Parameters"
   ]
  },
  {
   "cell_type": "markdown",
   "metadata": {},
   "source": [
    "Before we can begin optimizing our model’s parameters by gradient descent, we need to have some parameters\n",
    "in the first place. In the following code, we initialize weights by sampling random numbers from a normal\n",
    "distribution with mean 0 and a standard deviation of 0.01, setting the bias $b$ to 0."
   ]
  },
  {
   "cell_type": "code",
   "execution_count": 6,
   "metadata": {},
   "outputs": [],
   "source": [
    "w = 0.01**0.5*torch.randn(size=(2, 1))\n",
    "b = torch.zeros((1, ))"
   ]
  },
  {
   "cell_type": "markdown",
   "metadata": {},
   "source": [
    "We use automatic differentiation to compute the gradient. We need to invoke the ``requires_grad`` function."
   ]
  },
  {
   "cell_type": "code",
   "execution_count": 7,
   "metadata": {},
   "outputs": [],
   "source": [
    "w.requires_grad = True\n",
    "b.requires_grad = True"
   ]
  },
  {
   "cell_type": "markdown",
   "metadata": {},
   "source": [
    "## Define the Model"
   ]
  },
  {
   "cell_type": "markdown",
   "metadata": {},
   "source": [
    "Here, we define our fancy linear model."
   ]
  },
  {
   "cell_type": "code",
   "execution_count": 8,
   "metadata": {},
   "outputs": [],
   "source": [
    "def linreg(X, w, b):\n",
    "    return torch.matmul(X, w) + b"
   ]
  },
  {
   "cell_type": "markdown",
   "metadata": {},
   "source": [
    "## Define the Loss Function"
   ]
  },
  {
   "cell_type": "markdown",
   "metadata": {},
   "source": [
    "Here, we will use the squared loss function."
   ]
  },
  {
   "cell_type": "code",
   "execution_count": 9,
   "metadata": {},
   "outputs": [],
   "source": [
    "def squared_loss(y_hat, y):\n",
    "    return 1/2*torch.mean((y_hat - y.reshape(y_hat.shape))**2)"
   ]
  },
  {
   "cell_type": "markdown",
   "metadata": {},
   "source": [
    "## Define the Optimization Algorithm"
   ]
  },
  {
   "cell_type": "markdown",
   "metadata": {},
   "source": [
    "Here, we introduce your first working examples of stochastic gradient descent (SGD)."
   ]
  },
  {
   "cell_type": "code",
   "execution_count": 10,
   "metadata": {},
   "outputs": [],
   "source": [
    "def sgd(params, lr):\n",
    "    for param in params:\n",
    "        param.data = param.data - lr*param.grad.data\n",
    "        param.grad.data.zero_()"
   ]
  },
  {
   "cell_type": "markdown",
   "metadata": {},
   "source": [
    "## Training"
   ]
  },
  {
   "cell_type": "markdown",
   "metadata": {},
   "source": [
    "Now that we have all of the parts in place, we are ready to implement the main training loop. It is crucial\n",
    "that you understand this code because you will see training loops that are nearly identical to this one over\n",
    "and over again throughout your career in deep learning."
   ]
  },
  {
   "cell_type": "code",
   "execution_count": 11,
   "metadata": {},
   "outputs": [
    {
     "name": "stdout",
     "output_type": "stream",
     "text": [
      "epoch 1, loss 0.030668\n",
      "epoch 2, loss 0.005136\n",
      "epoch 3, loss 0.005101\n",
      "epoch 4, loss 0.005105\n",
      "epoch 5, loss 0.005112\n",
      "epoch 6, loss 0.005107\n",
      "epoch 7, loss 0.005106\n",
      "epoch 8, loss 0.005108\n",
      "epoch 9, loss 0.005111\n",
      "epoch 10, loss 0.005100\n"
     ]
    }
   ],
   "source": [
    "lr = 0.03 # learning rate\n",
    "num_epochs = 10 # number of iterations\n",
    "net = linreg # our linear model\n",
    "loss = squared_loss # 0.5(y - y')^2\n",
    "\n",
    "for epoch in range(num_epochs):\n",
    "    for X, y in data_iter(batch_size, features, labels):\n",
    "        y_pred = net(X, w, b)\n",
    "        l = loss(y_pred, y)\n",
    "        l.backward()\n",
    "        sgd([w, b], lr)\n",
    "    train_l = loss(net(features, w, b), labels)\n",
    "    print('epoch %d, loss %f' % (epoch+1, float(train_l)))"
   ]
  },
  {
   "cell_type": "code",
   "execution_count": 12,
   "metadata": {},
   "outputs": [
    {
     "data": {
      "text/plain": [
       "tensor([[1.9992],\n",
       "        [3.4067]], requires_grad=True)"
      ]
     },
     "execution_count": 12,
     "metadata": {},
     "output_type": "execute_result"
    }
   ],
   "source": [
    "w"
   ]
  },
  {
   "cell_type": "code",
   "execution_count": 13,
   "metadata": {},
   "outputs": [
    {
     "data": {
      "text/plain": [
       "tensor([4.2030], requires_grad=True)"
      ]
     },
     "execution_count": 13,
     "metadata": {},
     "output_type": "execute_result"
    }
   ],
   "source": [
    "b"
   ]
  },
  {
   "cell_type": "code",
   "execution_count": 14,
   "metadata": {},
   "outputs": [
    {
     "name": "stdout",
     "output_type": "stream",
     "text": [
      "Error in estimating w tensor([0.0008, 0.0067], grad_fn=<AbsBackward>)\n",
      "Error in estimating b tensor([0.0030], grad_fn=<AbsBackward>)\n"
     ]
    }
   ],
   "source": [
    "print('Error in estimating w', torch.abs(w.reshape(true_w.shape)-true_w))\n",
    "print('Error in estimating b', torch.abs(b-true_b))"
   ]
  },
  {
   "cell_type": "markdown",
   "metadata": {},
   "source": [
    "Let's plot predicted values versus the true values."
   ]
  },
  {
   "cell_type": "code",
   "execution_count": 15,
   "metadata": {},
   "outputs": [
    {
     "data": {
      "text/plain": [
       "Text(0, 0.5, 'predicted values')"
      ]
     },
     "execution_count": 15,
     "metadata": {},
     "output_type": "execute_result"
    },
    {
     "data": {
      "image/png": "[encoded data removed]",
      "text/plain": [
       "<Figure size 432x288 with 1 Axes>"
      ]
     },
     "metadata": {
      "needs_background": "light"
     },
     "output_type": "display_data"
    }
   ],
   "source": [
    "y_pred = net(features, w, b)\n",
    "plt.scatter(labels.detach().numpy(), \n",
    "            y_pred.detach().numpy())\n",
    "plt.xlabel('true values')\n",
    "plt.ylabel('predicted values')"
   ]
  },
  {
   "cell_type": "markdown",
   "metadata": {},
   "source": [
    "Now, let's compute the analytic solution for $\\mathbf{w}$:"
   ]
  },
  {
   "cell_type": "code",
   "execution_count": 16,
   "metadata": {},
   "outputs": [],
   "source": [
    "w_analytic = torch.matmul(torch.matmul(torch.inverse(torch.matmul(features.transpose(0, 1), features)), \n",
    "                                features.transpose(0, 1)),\n",
    "                   labels)"
   ]
  },
  {
   "cell_type": "code",
   "execution_count": 17,
   "metadata": {},
   "outputs": [
    {
     "name": "stdout",
     "output_type": "stream",
     "text": [
      "Analytic solution for w is tensor([2.1036, 3.5865])\n"
     ]
    }
   ],
   "source": [
    "print('Analytic solution for w is', w_analytic)"
   ]
  },
  {
   "cell_type": "code",
   "execution_count": null,
   "metadata": {},
   "outputs": [],
   "source": []
  }
 ],
 "metadata": {
  "kernelspec": {
   "display_name": "Python 3",
   "language": "python",
   "name": "python3"
  },
  "language_info": {
   "codemirror_mode": {
    "name": "ipython",
    "version": 3
   },
   "file_extension": ".py",
   "mimetype": "text/x-python",
   "name": "python",
   "nbconvert_exporter": "python",
   "pygments_lexer": "ipython3",
   "version": "3.7.0"
  }
 },
 "nbformat": 4,
 "nbformat_minor": 2
}
