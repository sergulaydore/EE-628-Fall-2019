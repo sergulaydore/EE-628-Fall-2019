{
 "cells": [
  {
   "cell_type": "code",
   "execution_count": null,
   "metadata": {},
   "outputs": [],
   "source": [
    "import torch"
   ]
  },
  {
   "cell_type": "code",
   "execution_count": null,
   "metadata": {},
   "outputs": [],
   "source": [
    "class LeNet5(torch.nn.Module):\n",
    "    def __init__(self):   \n",
    "        super(LeNet5, self).__init__()\n",
    "        # Convolution (In LeNet-5, 32x32 images are given as input. Hence padding of 2 is done below)\n",
    "        # Max-pooling\n",
    "        # Convolution\n",
    "        # Max-pooling\n",
    "        # Fully connected layer\n",
    "          # convert matrix with 16*5*5 (= 400) features to a matrix of 120 features (columns)\n",
    "          # convert matrix with 120 features to a matrix of 84 features (columns)\n",
    "          # convert matrix with 84 features to a matrix of 10 features (columns)\n",
    "\n",
    "    def forward(self, x):\n",
    "        # convolve, then perform sigmoid non-linearity\n",
    "        # max-pooling with 2x2 grid \n",
    "        # convolve, then perform sigmoid non-linearity\n",
    "        # max-pooling with 2x2 grid\n",
    "        # first flatten 'max_pool_2_out' to contain 16*5*5 columns\n",
    "        # read through https://stackoverflow.com/a/42482819/7551231\n",
    "        # FC-1, then perform sigmoid non-linearity\n",
    "        # FC-2, then perform sigmoid non-linearity\n",
    "        # FC-3\n",
    "        return x"
   ]
  },
  {
   "cell_type": "code",
   "execution_count": null,
   "metadata": {},
   "outputs": [],
   "source": [
    "# create an instance for your network"
   ]
  },
  {
   "cell_type": "code",
   "execution_count": null,
   "metadata": {},
   "outputs": [],
   "source": [
    "# create a random input of size 1 x 1 x 28 x 28"
   ]
  },
  {
   "cell_type": "code",
   "execution_count": null,
   "metadata": {},
   "outputs": [],
   "source": [
    "# feed your input to the network and check the size of the output"
   ]
  },
  {
   "cell_type": "code",
   "execution_count": null,
   "metadata": {},
   "outputs": [],
   "source": []
  }
 ],
 "metadata": {
  "kernelspec": {
   "display_name": "Python 3",
   "language": "python",
   "name": "python3"
  },
  "language_info": {
   "codemirror_mode": {
    "name": "ipython",
    "version": 3
   },
   "file_extension": ".py",
   "mimetype": "text/x-python",
   "name": "python",
   "nbconvert_exporter": "python",
   "pygments_lexer": "ipython3",
   "version": "3.7.0"
  }
 },
 "nbformat": 4,
 "nbformat_minor": 2
}
